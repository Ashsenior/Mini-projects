{
 "cells": [
  {
   "cell_type": "markdown",
   "id": "6022cc33",
   "metadata": {},
   "source": [
    "## A header file for Data cleaning , filling and customization\n",
    "* **ready_data()** function for cleaning and filling data from start to end\n",
    "* **get_time_series()** function to get time series dataframe and convert it into numerical form\n",
    "* **scale()** scale function scales your data and returns dataframe with all scaled columns\n",
    "* **remove_least_correlated_columns()** function removes all least correlated columns with the label with a factor"
   ]
  },
  {
   "cell_type": "code",
   "execution_count": 58,
   "id": "3c01d525",
   "metadata": {},
   "outputs": [],
   "source": [
    "import pandas as pd \n",
    "import numpy as np\n",
    "from sklearn.preprocessing import StandardScaler"
   ]
  },
  {
   "cell_type": "code",
   "execution_count": 5,
   "id": "aa808cba",
   "metadata": {},
   "outputs": [],
   "source": [
    "def ready_data(csv_file_name,num_method=\"median\",time_series=False):\n",
    "    df = pd.read_csv(csv_file_name+\".csv\",low_memory=False)\n",
    "    if time_series:\n",
    "        datec = get_date_column(csv_file_name)\n",
    "        df = pd.read_csv(csv_file_name+\".csv\",low_memory=False,parse_date=[datec])\n",
    "        df.sort_values(by=[datec],inplace=True,ascending=True)\n",
    "    for label ,content in df.items():\n",
    "        if pd.api.types.is_string_dtype(content):\n",
    "            df[label] = content.astype(\"category\").cat.as_ordered()\n",
    "    for label,content in df.items():\n",
    "        if pd.api.types.is_categorical_dtype(content):\n",
    "            df[label] = pd.Categorical(content).codes+1\n",
    "        if pd.api.types.is_datetime64_dtype(content):\n",
    "            df[label] = content.dropna(axis=0,inplace=True)\n",
    "        elif pd.api.types.is_numeric_dtype(content):\n",
    "            if pd.isnull(content).sum():\n",
    "                df[label+'_is_missing'] = pd.isnull(content)\n",
    "                if num_method=='median':\n",
    "                    df[label] = content.fillna(content.median())\n",
    "                else :\n",
    "                    df[label] = content.fillna(content.mean())\n",
    "    if time_series:\n",
    "        df.Year = df[datec].dt.year\n",
    "        df.Month = df[datec].dt.month\n",
    "        df.day = df[datec].dt.day\n",
    "        df.DayOfWeek = df[datec].dt.dayofweek\n",
    "        df.DayOfYear = df[datec].dt.dayofyear\n",
    "        df.drop(datec,axis=1,inplace=True)\n",
    "    scaled_df = scale(df)\n",
    "    print(\"NOTE : New columns were added in your dataframe including (is_missing) columns and (date) columms. \")\n",
    "    return scaled_df\n",
    "        "
   ]
  },
  {
   "cell_type": "code",
   "execution_count": 6,
   "id": "bbcf4849",
   "metadata": {},
   "outputs": [],
   "source": [
    "def get_time_series(csv_file):\n",
    "    datec = get_date_column(csv_file)\n",
    "    df = pd.read_csv(csv_file_name+\".csv\",low_memory=False,parse_date=[datec])\n",
    "    df.sort_values(by=[datec],inplace=True,ascending=True)\n",
    "    for label,content in df.items():\n",
    "        if pd.api.type.is_datetime64_dtype(content):\n",
    "            df[label] = content.dropna(axis=0,inplace=True)\n",
    "    df.Year = df[datec].dt.year\n",
    "    df.Month = df[datec].dt.month\n",
    "    df.day = df[datec].dt.day\n",
    "    df.DayOfWeek = df[datec].dt.dayofweek\n",
    "    df.DayOfYear = df[datec].dt.dayofyear\n",
    "    df.drop(datec,axis=1,inplace=True)\n",
    "    print(\"NOTE : New columns were added in your dataframe .\")\n",
    "    return df"
   ]
  },
  {
   "cell_type": "code",
   "execution_count": 7,
   "id": "3af4c129",
   "metadata": {},
   "outputs": [],
   "source": [
    "def get_date_column(csv_file_name):\n",
    "    df = pd.read_csv(csv_file_name+\".csv\",low_memory=False)\n",
    "    for label,content in df.items():\n",
    "        if pd.api.types.is_string_dtype(content):\n",
    "            if \"date\" in label.lower():\n",
    "                datec = column\n",
    "    return datec"
   ]
  },
  {
   "cell_type": "code",
   "execution_count": 8,
   "id": "4fe4a6a6",
   "metadata": {},
   "outputs": [],
   "source": [
    "def scale(df):\n",
    "    scaler = StandardScaler()\n",
    "    scaled_df = pd.DataFrame(scaler.fit_transform(df),columns=df.columns)\n",
    "    return scaled_df"
   ]
  },
  {
   "cell_type": "code",
   "execution_count": 50,
   "id": "ff4b77f9",
   "metadata": {},
   "outputs": [],
   "source": [
    "def remove_least_correlated_columns(df,label,factor=3):\n",
    "    least_corr = []\n",
    "    count=0\n",
    "    neg_limit = df.corr()[label][df.corr()[label]<0].mean()/factor\n",
    "    pos_limit = df.corr()[label][df.corr()[label]>0].mean()/factor\n",
    "    for i in range(len(df.corr()[label])):\n",
    "        val=df.corr()[label][i]\n",
    "        if neg_limit<val<pos_limit:\n",
    "            least_corr.append(df.corr().index[i])\n",
    "            print(f\" Column **{df.corr().index[i]}** was removed with correlation {val} with {label}\")\n",
    "            count+=1;\n",
    "    if count==0:\n",
    "        print(\" No column was removed from DataFrame\")\n",
    "    df = df.drop(least_corr,axis=1)\n",
    "    return df"
   ]
  }
 ],
 "metadata": {
  "kernelspec": {
   "display_name": "Python 3 (ipykernel)",
   "language": "python",
   "name": "python3"
  },
  "language_info": {
   "codemirror_mode": {
    "name": "ipython",
    "version": 3
   },
   "file_extension": ".py",
   "mimetype": "text/x-python",
   "name": "python",
   "nbconvert_exporter": "python",
   "pygments_lexer": "ipython3",
   "version": "3.9.9"
  }
 },
 "nbformat": 4,
 "nbformat_minor": 5
}
